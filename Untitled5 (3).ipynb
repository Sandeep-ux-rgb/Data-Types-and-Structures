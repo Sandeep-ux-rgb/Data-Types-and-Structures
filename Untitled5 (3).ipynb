{
  "nbformat": 4,
  "nbformat_minor": 0,
  "metadata": {
    "colab": {
      "provenance": []
    },
    "kernelspec": {
      "name": "python3",
      "display_name": "Python 3"
    },
    "language_info": {
      "name": "python"
    }
  },
  "cells": [
    {
      "cell_type": "markdown",
      "source": [
        "DATA  TYPES AND STRUCTURE"
      ],
      "metadata": {
        "id": "U4_9UquPUzwp"
      }
    },
    {
      "cell_type": "code",
      "execution_count": null,
      "metadata": {
        "id": "LV8FsWEIUjzi"
      },
      "outputs": [],
      "source": []
    },
    {
      "cell_type": "markdown",
      "source": [
        "1. What are data structures, and why are they important?                        \n",
        "Answer-What are Data Structures?\n",
        "Data structures are organized ways of storing and managing data in a computer program.\n",
        "They define the relationships between data elements and the operations that can be performed on them.\n",
        "Examples include arrays, linked lists, trees, graphs, and hash tables, each designed for specific tasks.\n",
        "Data structures are not programming languages; they are a set of rules or algorithms that can be used in any programming language to organize data.\n",
        "They are often referred to as Abstract Data Types (ADTs) because they represent a collection of data and the operations that can be performed on that data.\n",
        "Why are Data Structures Important?\n",
        "Efficiency:\n",
        "Data structures allow programs to efficiently store, retrieve, and manipulate data, leading to faster execution and reduced resource consumption.\n",
        "Organization:\n",
        "They provide a structured way to manage data, making it easier to understand and work with, especially when dealing with large datasets.\n",
        "Readability:\n",
        "Well-chosen data structures can make code more readable and maintainable.\n",
        "Algorithm Development:\n",
        "Many algorithms rely on specific data structures to perform effectively. For example, search algorithms often use hash tables or trees for efficient searching.\n",
        "Problem Solving:\n",
        "Data structures are essential for solving various problems in computer science, including data storage, indexing, and network routing.\n",
        "Data Management:\n",
        "Data structures are crucial for managing large amounts of data in databases and other systems, enabling efficient storage and retrieval.                        \n",
        "2./P  Explain the difference between mutable and immutable data types with examples?                                                                       \n",
        "Answer-In programming, data types can be categorized as either mutable or immutable, based on whether their values can be changed after creation.\n",
        "Mutable Data Types:\n",
        "Mutable data types allow modifications to their content after they are created.\n",
        "Changes are made directly to the object in memory.\n",
        "Common examples include:\n",
        "Lists: Elements can be added, removed, or modified.\n",
        "Python\n",
        "\n",
        "   my_list = [1, 2, 3]\n",
        "   my_list.append(4)  # Modifies the original list\n",
        "   print(my_list)  # Output: [1, 2, 3, 4]\n",
        "Dictionaries: Key-value pairs can be added, removed, or modified.\n",
        "Python\n",
        "\n",
        "   my_dict = {\"a\": 1, \"b\": 2}\n",
        "   my_dict[\"c\"] = 3  # Modifies the original dictionary\n",
        "   print(my_dict)  # Output: {'a': 1, 'b': 2, 'c': 3}\n",
        "Sets: Elements can be added or removed.\n",
        "Python\n",
        "\n",
        "   my_set = {1, 2, 3}\n",
        "   my_set.add(4) # Modifies the original set\n",
        "   print(my_set) # Output: {1, 2, 3, 4}\n",
        "Immutable Data Types:\n",
        "Immutable data types do not allow modifications after they are created.\n",
        "Any operation that appears to change the object actually creates a new object with the modified value.\n",
        "Common examples include:\n",
        "Integers, floats, booleans: Numerical and logical values cannot be changed.\n",
        "Python\n",
        "\n",
        "  x = 5\n",
        "  x = x + 1  # Creates a new integer object\n",
        "  print(x)  # Output: 6\n",
        "Strings: Sequences of characters cannot be changed.\n",
        "Python\n",
        "\n",
        "  my_string = \"hello\"\n",
        "  new_string = my_string + \" world\"  # Creates a new string object\n",
        "  print(new_string)  # Output: hello world\n",
        "Tuples: Ordered sequences of elements that cannot be changed.\n",
        "Python\n",
        "\n",
        "  my_tuple = (1, 2, 3)\n",
        "  # my_tuple[0] = 4 # This would cause an error\n",
        "  new_tuple = my_tuple + (4,) # Creates a new tuple object\n",
        "  print(new_tuple) # Output: (1, 2, 3, 4)\n",
        "Key Differences:\n",
        "Modification: Mutable objects can be changed in place, while immutable objects cannot.\n",
        "Memory: Changes to mutable objects affect the original object's memory location, while changes to immutable objects result in a new memory location being allocated.\n",
        "Usage: Mutable objects are suitable for scenarios where data needs to be modified, while immutable objects are useful for maintaining data integrity and avoiding unintended side effects.\n",
        "3. What are the main differences between lists and tuples in Python?\n",
        " Answer-Mutability:\n",
        "Lists are mutable, which means their elements can be changed after the list is created. You can add, remove, or modify elements in a list.\n",
        "Tuples are immutable, meaning their elements cannot be changed once the tuple is created. You cannot add, remove, or modify elements in a tuple.\n",
        "Syntax:\n",
        "Lists are defined using square brackets []. For example: my_list =\n",
        "Tuples are defined using parentheses (). For example: my_tuple = (1, 2, 3)\n",
        "Use Cases:\n",
        "Lists are typically used for collections of items that may need to be modified.\n",
        "Tuples are typically used for collections of items that should not be changed, such as representing a record or a fixed set of values.\n",
        "Performance:\n",
        "Tuples are generally faster and more memory-efficient than lists because they are immutable. Python can optimize the storage and access of tuples due to their fixed nature.\n",
        "Lists are less efficient than tuples due to the need to handle dynamic resizing and modification.\n",
        "Methods:\n",
        "Lists have a wide range of built-in methods for adding, removing, and modifying elements, such as append(), insert(), remove(), pop(), and sort().\n",
        "Tuples have fewer built-in methods due to their immutability, primarily methods for accessing elements and counting occurrences.\n",
        "Homogeneity:\n",
        "Lists are typically used to store collections of items of the same type.\n",
        "Tuples can store items of different types (heterogeneous data).\n",
        "Other differences:\n",
        "Tuples can be used as keys in dictionaries, while lists cannot because they are mutable.\n",
        "Standard tools are more likely to support lists, while tuples may not be supported in some cases.                                                        \n",
        "4. Describe how dictionaries store data?                                        \n",
        "Answer-Dictionaries store data as key-value pairs. Each key within a dictionary is unique and is associated with a specific value. The keys must be immutable data types, such as strings, numbers, or tuples. Values, on the other hand, can be of any data type, including other dictionaries or lists.\n",
        "Dictionaries are implemented using hash tables, which enable efficient retrieval of values based on their keys. When a key is added to a dictionary, its hash value is calculated, and the value is stored at the corresponding location in the hash table. This allows for quick lookup of values by their keys.\n",
        "Dictionaries are mutable, meaning that their contents can be modified after they are created. Items can be added, removed, or updated. In Python version 3.7 and onwards, dictionaries are ordered, meaning that the order in which items are inserted is preserved. In Python 3.6 and earlier, dictionaries were unordered.                                                                      \n",
        "5. Why might you use a set instead of a list in Python?                         \n",
        "Answer-Sets and lists are both used for storing collections of items in Python, but they have key differences that make them suitable for different situations. Here's why you might use a set instead of a list:\n",
        "1. Uniqueness: Sets only store unique elements. If you try to add a duplicate element, it will be ignored. Lists, on the other hand, allow duplicate elements.\n",
        "2. Unordered: Sets do not maintain the order of elements. The order in which you add elements to a set is not guaranteed when you iterate through it. Lists are ordered; the order of elements is preserved.\n",
        "3. Membership Testing: Sets have highly optimized membership testing (checking if an element exists in the collection). This operation is significantly faster in sets than in lists, especially for large collections.\n",
        "4. Mathematical Set Operations: Sets support various mathematical operations like union, intersection, difference, and symmetric difference, making them useful for data processing and mathematical computations.\n",
        "5. Removing Duplicates: Sets are an efficient way to remove duplicate values from a list or other iterable.\n",
        "When to use a set:\n",
        "When you need to store only unique elements.\n",
        "When the order of elements does not matter.\n",
        "When you need to quickly check if an element is present in the collection.\n",
        "When you need to perform mathematical set operations.\n",
        "When you want to remove duplicates from a collection.\n",
        "When to use a list:\n",
        "When you need to store an ordered sequence of elements.\n",
        "When duplicate elements are allowed.\n",
        "When you need to access elements by their index.\n",
        "When you need to modify the collection by adding, removing, or changing elements.\n",
        "Example:\n",
        "Python\n",
        "\n",
        "# List with duplicates\n",
        "my_list = [1, 2, 2, 3, 4, 4, 5]\n",
        "\n",
        "# Set with unique elements\n",
        "my_set = {1, 2, 2, 3, 4, 4, 5}  # Duplicates are automatically removed\n",
        "\n",
        "print(my_list)  # Output: [1, 2, 2, 3, 4, 4, 5]\n",
        "print(my_set)   # Output: {1, 2, 3, 4, 5} (order may vary)\n",
        "\n",
        "# Membership test\n",
        "print(3 in my_list) # Output: True\n",
        "print(3 in my_set)  # Output: True\n",
        "\n",
        "# Mathematical set operation\n",
        "set1 = {1, 2, 3}\n",
        "set2 = {3, 4, 5}\n",
        "print(set1.union(set2)) # Output: {1, 2, 3, 4, 5}                               \n",
        "6. What is a string in Python, and how is it different from a list?             \n",
        "Answer-Feature\n",
        "String\n",
        "List\n",
        "Definition\n",
        "Sequence of characters within quotes\n",
        "Ordered collection of items in square brackets\n",
        "Mutability\n",
        "Immutable (cannot be changed)\n",
        "Mutable (can be changed)\n",
        "Content\n",
        "Textual data\n",
        "Can hold various data types\n",
        "Usage\n",
        "Storing and manipulating text\n",
        "Storing collections of items\n",
        "Methods\n",
        "String-specific methods (e.g., upper(), lower(), replace())\n",
        "List-specific methods (e.g., append(), insert(), remove())\n",
        "Example:\n",
        "Python\n",
        "\n",
        "my_string = \"Hello, World!\"\n",
        "my_list = [1, \"apple\", 3.14, True]\n",
        "\n",
        "# Strings can be accessed by index, but not modified\n",
        "print(my_string[0])  # Output: H\n",
        "# my_string[0] = \"h\"  # This will cause an error because strings are immutable\n",
        "\n",
        "# Lists can be accessed and modified by index\n",
        "print(my_list[1])   # Output: apple\n",
        "my_list[1] = \"banana\"\n",
        "print(my_list)      # Output: [1, \"banana\", 3.14, True]                         \n",
        "7. How do tuples ensure data integrity in Python?                               \n",
        "Answer-Tuples in Python ensure data integrity primarily through their immutability. Once a tuple is created, its elements cannot be modified, added, or removed. This characteristic is crucial for maintaining the consistency and reliability of data, especially in scenarios where unintentional changes could lead to errors or inconsistencies.\n",
        "Here's a breakdown of how immutability contributes to data integrity:\n",
        "Prevention of Accidental Modification:\n",
        "Since tuples cannot be changed after creation, they protect data from accidental or unintended alterations. This is particularly useful when working with sensitive data or when you need to guarantee that a collection of values remains constant throughout a program.\n",
        "Use as Dictionary Keys:\n",
        "Tuples can be used as keys in dictionaries because of their immutability. Dictionaries require keys to be hashable, and mutable objects like lists cannot be used as keys.\n",
        "Data Consistency:\n",
        "Immutability ensures that the data within a tuple remains consistent over time. This is crucial for maintaining the integrity of data structures and preventing unexpected behavior in programs.\n",
        "Performance Benefits:\n",
        "Immutability allows the Python interpreter to optimize operations on tuples, which can result in performance improvements compared to mutable data structures like lists.\n",
        "Sequence Integrity:\n",
        "When tuples are used as elements in other data structures, their immutability ensures that their content remains unaltered. This is beneficial, for example, when you have a list of tuples and want to maintain the integrity of each tuple.\n",
        "Safety in Multithreaded Environments:\n",
        "The immutability of tuples makes them inherently thread-safe, as there is no risk of race conditions when multiple threads access the same tuple.\n",
        "Use cases:\n",
        "Tuples are often used to represent fixed collections of items, such as coordinates, configurations, or records.                                        \n",
        "8. What is a hash table, and how does it relate to dictionaries in Python?      \n",
        "Answer-A hash table is a data structure that stores key-value pairs. It uses a hash function to compute an index into an array, where the value is stored. This allows for fast access to data, as the index serves as a key to retrieve the corresponding value.\n",
        "In Python 3, dictionaries are implemented using hash tables. When a key-value pair is added to a dictionary, the key is hashed to determine its location in the underlying hash table. This allows for efficient lookup, insertion, and deletion operations.\n",
        "The keys in a Python dictionary must be hashable, meaning they are immutable, such as strings, numbers, and tuples. This ensures that the hash function can consistently produce the same index for a given key.\n",
        "While hash tables provide excellent average-case performance, they can experience collisions if different keys produce the same hash value. Various techniques are used to handle collisions, such as separate chaining or open addressing.                                                                   9. Can lists contain different data types in Pytho ?                            \n",
        "Answer-Yes, lists in Python can contain elements of different data types. This is one of the features that makes Python lists very versatile. A single list can hold integers, floats, strings, booleans, other lists, dictionaries, and even functions.\n",
        "For example, a list can be defined as:\n",
        "Python\n",
        "\n",
        "my_list = [1, \"hello\", 3.14, True, [2, 4, 6], {\"name\": \"John\", \"age\": 30}]\n",
        "In this example, my_list contains an integer, a string, a float, a boolean, another list, and a dictionary.\n",
        "Python lists are mutable, meaning their contents can be changed after creation. This includes adding, removing, or modifying elements of any data type.         \n",
        "10. Explain why strings are immutable in Python?                                \n",
        "Answer-In Python, strings are immutable, which means that once a string is created, its content cannot be changed. Instead of modifying the original string, any operation that appears to change a string actually creates a new string object. Here's why strings are immutable:\n",
        "1. Memory Efficiency:\n",
        "Immutability allows Python to optimize memory usage. When multiple variables reference the same string literal, they can all point to the same memory location. If strings were mutable, each variable would need its own copy, consuming more memory.\n",
        "String interning is a technique used by Python where identical string literals are stored only once in memory. This optimization is possible because strings are immutable.\n",
        "2. Hashing and Dictionary Keys:\n",
        "Immutable objects can be hashed, meaning they have a unique hash value based on their content. This property is crucial for using strings as keys in dictionaries. If strings were mutable, their hash value could change, making them unsuitable as dictionary keys.\n",
        "3. Thread Safety:\n",
        "Immutability makes strings inherently thread-safe. When multiple threads access the same string, there's no risk of data corruption since the string cannot be modified by any thread.\n",
        "4. Predictable Behavior:\n",
        "Immutable strings ensure predictable behavior. You can pass a string to a function without worrying that the function will modify it. This predictability simplifies debugging and makes code easier to reason about.\n",
        "5. Method Chaining:\n",
        "Immutable types' methods return new instances, making method chaining possible and easy.\n",
        "Consequences of Immutability:\n",
        "String Modification:\n",
        "When you perform operations that seem to modify a string (e.g., concatenation, replacement), you're actually creating a new string object. The original string remains unchanged.\n",
        "Variable Reassignment:\n",
        "When you assign a new value to a string variable, you're essentially making the variable refer to a new string object. The old string object might be garbage-collected if no other variables reference it.\n",
        "Example:\n",
        "Python\n",
        "\n",
        "str1 = \"hello\"\n",
        "str2 = str1 + \" world\"\n",
        "print(str1)  # Output: hello\n",
        "print(str2)  # Output: hello world\n",
        "In this example, str1 remains \"hello\", while str2 becomes \"hello world\". The original string object \"hello\" is not modified.\n",
        "In summary, string immutability in Python provides several advantages, including memory efficiency, thread safety, and predictable behavior. While it might seem like a limitation at first, it's a crucial design choice that makes Python more robust and efficient.                                               \n",
        "11.What advantages do dictionaries offer over lists for certain tasks?          \n",
        "Answer-So it is more efficient to use dictionaries for the searching of elements as it can be carried out in a much faster manner. Lists are used when it is important to maintain the order of the elements and dealing with data that may get changed in the future.                                             \n",
        "12.Describe a scenario where using a tuple would be preferable over a list?     \n",
        "Answer-Tuples are preferable to lists in scenarios where immutability is required. For instance, when representing data that should not be changed after creation, such as coordinates (x, y), RGB color values (red, green, blue), or database records, tuples are the appropriate choice.\n",
        "Using a tuple for such data ensures that the values remain constant throughout the program's execution. This immutability can prevent accidental modifications and improve data integrity. Additionally, tuples are generally more memory-efficient and faster to iterate over than lists, making them suitable for performance-sensitive applications.\n",
        "In cases where the data's structure is fixed and its values are not meant to be altered, tuples offer a safer and more efficient alternative to lists.          \n",
        "13. How do sets handle duplicate values in Python?\n",
        "Answer-Python sets are designed to store only unique elements. When you attempt to add a duplicate value to a set, it will be ignored, and the set will remain unchanged. This behavior makes sets useful for removing duplicates from lists or other collections.\n",
        "Here's how it works:\n",
        "Uniqueness:\n",
        "Sets enforce uniqueness, meaning no two elements within a set can be the same.\n",
        "Adding Elements:\n",
        "When you add an element to a set using the add() method, Python checks if the element already exists in the set.\n",
        "Duplicate Handling:\n",
        "If the element is already present, the add() operation does nothing, and the set remains the same. If the element is new, it is added to the set.\n",
        "This behavior applies to all types of elements, including numbers, strings, and tuples, as long as they are immutable.                                          \n",
        "14. How does the “in” keyword work differently for lists and dictionaries?      \n",
        "Answer-The in keyword in Python operates differently when used with lists and dictionaries due to their underlying structures:\n",
        "Lists:\n",
        "The in operator performs a linear search. It iterates through each element of the list, checking for equality with the target value.\n",
        "This means the time complexity of in for lists is O(n), where n is the number of elements in the list. The search time increases proportionally with the list's size.\n",
        "Dictionaries:\n",
        "The in operator checks for the presence of a key within the dictionary. It does not search for values.\n",
        "Dictionaries use hash tables for key storage, allowing for near-constant time lookups. The time complexity of in for dictionaries is typically O(1). This makes dictionaries significantly faster for membership checks, especially for large datasets.                                                                    15. Can you modify the elements of a tuple? Explain why or why not ?            \n",
        "Answer-No, the elements of a tuple cannot be directly modified after the tuple is created. Tuples are immutable data structures in Python, meaning their contents cannot be changed.\n",
        "Here's why:\n",
        "Immutability:\n",
        "Once a tuple is created, its structure and the values of its elements are fixed. This is a core design principle of tuples.\n",
        "Memory Efficiency:\n",
        "Immutability allows Python to optimize memory usage for tuples, as it doesn't need to account for potential changes.\n",
        "Data Integrity:\n",
        "Immutability ensures that the data stored in a tuple remains consistent and cannot be accidentally altered. This is useful when you need to represent fixed collections of data, such as coordinates or configuration settings.\n",
        "TypeError:\n",
        "Attempting to modify a tuple element directly will result in a TypeError.       \n",
        "16.  What is a nested dictionary, and give an example of its use case?          \n",
        "Answer-A nested dictionary is a dictionary that contains other dictionaries as values. This allows for a hierarchical data structure that can represent more complex relationships between data.\n",
        "Here's an example of a use case:\n",
        "Python\n",
        "\n",
        "students = {\n",
        "    \"Alice\": {\n",
        "        \"age\": 20,\n",
        "        \"major\": \"Computer Science\",\n",
        "        \"courses\": [\"Data Structures\", \"Algorithms\"]\n",
        "    },\n",
        "    \"Bob\": {\n",
        "        \"age\": 22,\n",
        "        \"major\": \"Mathematics\",\n",
        "        \"courses\": [\"Calculus\", \"Linear Algebra\"]\n",
        "    }\n",
        "}\n",
        "\n",
        "# Accessing information:\n",
        "print(students[\"Alice\"][\"major\"])  # Output: Computer Science\n",
        "print(students[\"Bob\"][\"courses\"][0])  # Output: Calculus\n",
        "In this example, the students dictionary stores information about individual students. Each student is a key, and its value is another dictionary containing their age, major, and courses. This structure allows easy access to specific information about each student.                                                 \n",
        "17.  Describe the time complexity of accessing elements in a dictionary?        \n",
        "Answer-Accessing elements in a dictionary generally has a time complexity of O(1) on average. This constant time complexity is achieved because dictionaries use a hash table internally. When you try to access an element using its key, the dictionary computes the hash of the key, which allows it to directly locate the value's position in the underlying storage.\n",
        "However, it's important to note that the worst-case time complexity for accessing elements in a dictionary can be O(n), where n is the number of elements in the dictionary. This scenario occurs when there are hash collisions, which means multiple keys have the same hash value. In such cases, the dictionary might need to iterate through a list of elements in the same hash bucket to find the correct value.\n",
        "Here's a breakdown:\n",
        "Average Case: O(1)\n",
        "- This is the typical case when the hash function distributes keys evenly, and collisions are minimal.\n",
        "Worst Case: O(n)\n",
        "- This occurs when many keys have the same hash value, leading to a linear search within a hash bucket.\n",
        "Most dictionary implementations, including those in Python, Java, and C++, are optimized to minimize hash collisions and maintain the average O(1) time complexity for element access.                                                  \n",
        "18.  In what situations are lists preferred over dictionaries?                  \n",
        "Answer-For quick data look-ups, configurations, or caches, favor dictionaries. For ordered collections and sequence operations, such as maintaining a stack or queue, lists are more suitable.                                                 \n",
        "19.  Why are dictionaries considered unordered, and how does that affect data retrieval?                                                                      \n",
        "Answer-Why dictionaries are unordered collection: Dictionary is a data structure which is a important value structure, optimized for fast storage and recovery based on key. In python, dictionaries are un-ordered because Python dictionaries are not intended to be in order, as simple as that.24 Oct 2018     \n",
        "20. Explain the difference between a list and a dictionary in terms of data retrieval.                                                                      \n",
        "Answer-Lists and dictionaries are both used to store collections of data, but they differ significantly in how they retrieve information.\n",
        "Lists:\n",
        "Access by index:\n",
        "Lists are ordered sequences where each element is assigned a numerical index, starting from 0.\n",
        "Retrieval:\n",
        "To access a specific element, you must know its index. For example, my_list[2] retrieves the third element of the list.\n",
        "Search:\n",
        "Searching for a specific value in a list requires iterating through the list until the value is found. This can be time-consuming for large lists (O(n) time complexity).\n",
        "Dictionaries:\n",
        "Access by key:\n",
        "Dictionaries store data as key-value pairs. Each value is associated with a unique key.\n",
        "Retrieval:\n",
        "To retrieve a value, you must know its corresponding key. For example, my_dict['name'] retrieves the value associated with the key 'name'.\n",
        "Search:\n",
        "Dictionaries use hash tables for efficient key lookups. Retrieving a value by its key is very fast, typically with O(1) average time complexity.\n",
        "Key Differences in Data Retrieval:\n",
        "Speed:\n",
        "Dictionaries offer much faster retrieval times for specific elements when you know the key, while lists require searching by index or iterating through the list to find a specific value, which can be slower.\n",
        "Access Method:\n",
        "Lists are accessed by numerical index, while dictionaries are accessed by unique keys.\n",
        "Use Case:\n",
        "Lists are ideal for ordered collections where the position of elements matters, while dictionaries are best for storing data where each element is associated with a unique identifier (key).\n",
        "Structure:\n",
        "Lists are ordered sequences, while dictionaries are unordered collections of key-value pairs.\n",
        "In summary, lists are suitable for ordered data and sequential access, while dictionaries are more efficient for key-based lookups and data retrieval.       \n",
        "             \n",
        "\n",
        "\n",
        "\n",
        "\n",
        "\n",
        "\n",
        "\n",
        "\n",
        "\n",
        "\n",
        "\n",
        "\n",
        "\n",
        "\n",
        "\n",
        "\n",
        "\n",
        "\n",
        "\n",
        "\n",
        "\n",
        "\n",
        "\n"
      ],
      "metadata": {
        "id": "CxCSZqcWVLTa"
      }
    },
    {
      "cell_type": "code",
      "source": [],
      "metadata": {
        "id": "jY1FsrLLDe6I"
      },
      "execution_count": null,
      "outputs": []
    },
    {
      "cell_type": "code",
      "source": [
        "a = (\"sandeep mishra:\")\n",
        "print(a)"
      ],
      "metadata": {
        "colab": {
          "base_uri": "https://localhost:8080/"
        },
        "id": "0DvOVZuwBH8H",
        "outputId": "b1e967d1-63e2-48f3-aeb9-fbde2781cb2f"
      },
      "execution_count": null,
      "outputs": [
        {
          "output_type": "stream",
          "name": "stdout",
          "text": [
            "sandeep mishra:\n"
          ]
        }
      ]
    },
    {
      "cell_type": "code",
      "source": [
        "string = \"Hello World\"\n",
        "length = len(string)\n",
        "print(length)\n",
        "print(length)\n",
        "\n"
      ],
      "metadata": {
        "colab": {
          "base_uri": "https://localhost:8080/"
        },
        "id": "BE4HlZ-6BB_H",
        "outputId": "57f73060-289b-46da-bb3a-501a8ca0cf2b"
      },
      "execution_count": null,
      "outputs": [
        {
          "output_type": "stream",
          "name": "stdout",
          "text": [
            "11\n",
            "11\n"
          ]
        }
      ]
    },
    {
      "cell_type": "code",
      "source": [
        "string = \"Python Programming\"\n",
        "sliced_string = string[:3]\n",
        "print(sliced_string)\n",
        "print(sliced_string)\n",
        "\n"
      ],
      "metadata": {
        "colab": {
          "base_uri": "https://localhost:8080/"
        },
        "id": "GC4Bdd4nDUmR",
        "outputId": "276b98d5-0873-484b-d3c7-2394f7deb1cc"
      },
      "execution_count": null,
      "outputs": [
        {
          "output_type": "stream",
          "name": "stdout",
          "text": [
            "Pyt\n",
            "Pyt\n"
          ]
        }
      ]
    },
    {
      "cell_type": "code",
      "source": [
        "#4.Write a code to convert the string \"hello\" to uppercase\n",
        "string = \"hello\"\n",
        "string = string.upper()\n",
        "print(string)\n",
        "\n"
      ],
      "metadata": {
        "id": "a2nhav6lEBEr",
        "colab": {
          "base_uri": "https://localhost:8080/"
        },
        "outputId": "2122bd3a-da39-4ea6-d224-5b5772498718"
      },
      "execution_count": 1,
      "outputs": [
        {
          "output_type": "stream",
          "name": "stdout",
          "text": [
            "HELLO\n"
          ]
        }
      ]
    },
    {
      "cell_type": "code",
      "source": [
        "#5.  Write a code to replace the word \"apple\" with \"orange\" in the string \"I like apple\"\n",
        "string = \"I like apple\"\n",
        "string = string.replace(\"apple\", \"orange\")\n",
        "print(string)\n"
      ],
      "metadata": {
        "colab": {
          "base_uri": "https://localhost:8080/"
        },
        "id": "LS1EbwuStyXI",
        "outputId": "7db8fd1a-a108-4077-b351-a9d4ecf263c8"
      },
      "execution_count": 2,
      "outputs": [
        {
          "output_type": "stream",
          "name": "stdout",
          "text": [
            "I like orange\n"
          ]
        }
      ]
    },
    {
      "cell_type": "code",
      "source": [
        "#6. Write a code to create a list with numbers 1 to 5 and print it\n",
        "list = [1, 2, 3, 4, 5]\n",
        "print(list)\n"
      ],
      "metadata": {
        "colab": {
          "base_uri": "https://localhost:8080/"
        },
        "id": "sjG8qpcnuB9w",
        "outputId": "11287951-0eef-4d9e-eabc-ae9f660edd03"
      },
      "execution_count": 3,
      "outputs": [
        {
          "output_type": "stream",
          "name": "stdout",
          "text": [
            "[1, 2, 3, 4, 5]\n"
          ]
        }
      ]
    },
    {
      "cell_type": "code",
      "source": [
        "#7.  Write a code to append the number 10 to the list [1, 2, 3, 4]\n",
        "list = [1, 2, 3, 4]\n",
        "list.append(10)\n",
        "print(list)\n"
      ],
      "metadata": {
        "colab": {
          "base_uri": "https://localhost:8080/"
        },
        "id": "g8LMTszZuMX6",
        "outputId": "895fda17-a6b3-49df-ec69-4320dcb0c6bf"
      },
      "execution_count": 4,
      "outputs": [
        {
          "output_type": "stream",
          "name": "stdout",
          "text": [
            "[1, 2, 3, 4, 10]\n"
          ]
        }
      ]
    },
    {
      "cell_type": "code",
      "source": [
        "#8. Write a code to remove the number 3 from the list [1, 2, 3, 4, 5]\n",
        "list = [1, 2, 3, 4, 5]\n",
        "list.remove(3)\n",
        "print(list)\n"
      ],
      "metadata": {
        "colab": {
          "base_uri": "https://localhost:8080/"
        },
        "id": "s-_hITO-uW71",
        "outputId": "69e1a85a-9f6a-453b-c674-4c2a1b7a12b8"
      },
      "execution_count": 5,
      "outputs": [
        {
          "output_type": "stream",
          "name": "stdout",
          "text": [
            "[1, 2, 4, 5]\n"
          ]
        }
      ]
    },
    {
      "cell_type": "code",
      "source": [
        "#9.  Write a code to access the second element in the list ['a', 'b', 'c', 'd']\n",
        "list = ['a', 'b', 'c', 'd']\n",
        "second_element = list[1]\n",
        "print(second_element)\n"
      ],
      "metadata": {
        "colab": {
          "base_uri": "https://localhost:8080/"
        },
        "id": "T4vVYMD5ui7T",
        "outputId": "7e0a11a2-e1bb-47c7-c68c-75b922beb132"
      },
      "execution_count": 6,
      "outputs": [
        {
          "output_type": "stream",
          "name": "stdout",
          "text": [
            "b\n"
          ]
        }
      ]
    },
    {
      "cell_type": "code",
      "source": [
        "#10.  Write a code to reverse the list [10, 20, 30, 40, 50].\n",
        "list = [10, 20, 30, 40, 50]\n",
        "list.reverse()\n",
        "print(list)"
      ],
      "metadata": {
        "colab": {
          "base_uri": "https://localhost:8080/"
        },
        "id": "35CQVsbDuuCM",
        "outputId": "5f7b981c-78c7-41c8-fc8d-798d6c601421"
      },
      "execution_count": 7,
      "outputs": [
        {
          "output_type": "stream",
          "name": "stdout",
          "text": [
            "[50, 40, 30, 20, 10]\n"
          ]
        }
      ]
    },
    {
      "cell_type": "code",
      "source": [
        "#11.  Write a code to create a tuple with the elements 100, 200, 300 and print it.\n",
        "tuple = (100, 200, 300)\n",
        "print(tuple)"
      ],
      "metadata": {
        "colab": {
          "base_uri": "https://localhost:8080/"
        },
        "id": "ufu4Z5sSu6zl",
        "outputId": "ae2765ae-7c5e-4eaa-d626-73c17e727e82"
      },
      "execution_count": 8,
      "outputs": [
        {
          "output_type": "stream",
          "name": "stdout",
          "text": [
            "(100, 200, 300)\n"
          ]
        }
      ]
    },
    {
      "cell_type": "code",
      "source": [
        "#12. Write a code to access the second-to-last element of the tuple ('red', 'green', 'blue', 'yellow').\n",
        "tuple = ('red', 'green', 'blue', 'yellow')\n",
        "second_to_last_element = tuple[-2]\n",
        "print(second_to_last_element)\n",
        "#"
      ],
      "metadata": {
        "colab": {
          "base_uri": "https://localhost:8080/"
        },
        "id": "YvJ4pNYZvDUF",
        "outputId": "257489b3-f2b2-41a2-810a-4271542027e0"
      },
      "execution_count": 9,
      "outputs": [
        {
          "output_type": "stream",
          "name": "stdout",
          "text": [
            "blue\n"
          ]
        }
      ]
    },
    {
      "cell_type": "code",
      "source": [
        "#13. Write a code to find the minimum number in the tuple (10, 20, 5, 15).\n",
        "tuple = (10, 20, 5, 15)\n",
        "minimum_number = min(tuple)\n",
        "print(minimum_number)"
      ],
      "metadata": {
        "colab": {
          "base_uri": "https://localhost:8080/"
        },
        "id": "ApMDDzDCvMy_",
        "outputId": "4bb121a4-ad2b-4dcf-ec07-abf9c3534917"
      },
      "execution_count": 10,
      "outputs": [
        {
          "output_type": "stream",
          "name": "stdout",
          "text": [
            "5\n"
          ]
        }
      ]
    },
    {
      "cell_type": "code",
      "source": [
        "#14. Write a code to find the index of the element \"cat\" in the tuple ('dog', 'cat', 'rabbit').\n",
        "tuple = ('dog', 'cat', 'rabbit')\n",
        "index = tuple.index('cat')\n",
        "print(index)"
      ],
      "metadata": {
        "colab": {
          "base_uri": "https://localhost:8080/"
        },
        "id": "tLuJTVNOyrft",
        "outputId": "3185baf1-2abd-4f9c-afbc-4f65b14e36fb"
      },
      "execution_count": 11,
      "outputs": [
        {
          "output_type": "stream",
          "name": "stdout",
          "text": [
            "1\n"
          ]
        }
      ]
    },
    {
      "cell_type": "code",
      "source": [
        "#15. Write a code to create a tuple containing three different fruits and check if \"kiwi\" is in it.\n",
        "fruits = ('apple', 'banana', 'orange')\n",
        "if 'kiwi' in fruits:\n",
        "    print('kiwi is in the tuple')\n",
        "else:\n",
        "    print('kiwi is not in the tuple')"
      ],
      "metadata": {
        "colab": {
          "base_uri": "https://localhost:8080/"
        },
        "id": "2Ht7sFuPyyE8",
        "outputId": "65f3f102-7e95-4f18-e57f-7ef3caefe7fd"
      },
      "execution_count": 12,
      "outputs": [
        {
          "output_type": "stream",
          "name": "stdout",
          "text": [
            "kiwi is not in the tuple\n"
          ]
        }
      ]
    },
    {
      "cell_type": "code",
      "source": [
        "#16. Write a code to create a set with the elements 'a', 'b', 'c' and print it.\n",
        "set = {'a', 'b', 'c'}\n",
        "print(set)"
      ],
      "metadata": {
        "colab": {
          "base_uri": "https://localhost:8080/"
        },
        "id": "FUl0HuWzy6HW",
        "outputId": "04b68f3c-bc2c-4ae8-d02d-cb9a0c121ab1"
      },
      "execution_count": 13,
      "outputs": [
        {
          "output_type": "stream",
          "name": "stdout",
          "text": [
            "{'c', 'b', 'a'}\n"
          ]
        }
      ]
    },
    {
      "cell_type": "code",
      "source": [
        "#17. Write a code to clear all elements from the set {1, 2, 3, 4, 5}.\n",
        "set = {1, 2, 3, 4, 5}\n",
        "set.clear()\n",
        "print(set)\n",
        "#"
      ],
      "metadata": {
        "colab": {
          "base_uri": "https://localhost:8080/"
        },
        "id": "pk0bKAdTzFHc",
        "outputId": "e8353690-4bb9-433d-8f58-3638950d0f8f"
      },
      "execution_count": 14,
      "outputs": [
        {
          "output_type": "stream",
          "name": "stdout",
          "text": [
            "set()\n"
          ]
        }
      ]
    },
    {
      "cell_type": "code",
      "source": [
        "#18. Write a code to remove the element 4 from the set {1, 2, 3, 4}.\n",
        "set = {1, 2, 3, 4}\n",
        "set.remove(4)\n",
        "print(set)"
      ],
      "metadata": {
        "colab": {
          "base_uri": "https://localhost:8080/"
        },
        "id": "HGTG3P0dzRKu",
        "outputId": "57d60340-89aa-40c9-8c93-0a841e815ad2"
      },
      "execution_count": 15,
      "outputs": [
        {
          "output_type": "stream",
          "name": "stdout",
          "text": [
            "{1, 2, 3}\n"
          ]
        }
      ]
    },
    {
      "cell_type": "code",
      "source": [
        "#19. Write a code to find the union of two sets {1, 2, 3} and {3, 4, 5}.\n",
        "set1 = {1, 2, 3}\n",
        "set2 = {3, 4, 5}\n",
        "union_set = set1.union(set2)\n",
        "print(union_set)"
      ],
      "metadata": {
        "colab": {
          "base_uri": "https://localhost:8080/"
        },
        "id": "24m2iX-WzWw-",
        "outputId": "29c90ce9-0ebe-41f1-f7f3-c54e8c5eb140"
      },
      "execution_count": 16,
      "outputs": [
        {
          "output_type": "stream",
          "name": "stdout",
          "text": [
            "{1, 2, 3, 4, 5}\n"
          ]
        }
      ]
    },
    {
      "cell_type": "code",
      "source": [
        "#20. Write a code to find the intersection of two sets {1, 2, 3} and {2, 3, 4}.\n",
        "set1 = {1, 2, 3}\n",
        "set2 = {2, 3, 4}\n",
        "intersection_set = set1.intersection(set2)\n",
        "print(intersection_set)"
      ],
      "metadata": {
        "colab": {
          "base_uri": "https://localhost:8080/"
        },
        "id": "Al3ZrJskzdsK",
        "outputId": "160057e3-e293-4c89-f394-b9b3e58bd179"
      },
      "execution_count": 17,
      "outputs": [
        {
          "output_type": "stream",
          "name": "stdout",
          "text": [
            "{2, 3}\n"
          ]
        }
      ]
    },
    {
      "cell_type": "code",
      "source": [
        "#21. Write a code to create a dictionary with the keys \"name\", \"age\", and \"city\", and print it.\n",
        "dictionary = {\n",
        "    \"name\": \"John\",\n",
        "    \"age\": 30,\n",
        "    \"city\": \"New York\"\n",
        "}\n",
        "print(dictionary)"
      ],
      "metadata": {
        "colab": {
          "base_uri": "https://localhost:8080/"
        },
        "id": "IFb5H71pzoV9",
        "outputId": "48593e91-6199-40ab-938d-2073bd966128"
      },
      "execution_count": 18,
      "outputs": [
        {
          "output_type": "stream",
          "name": "stdout",
          "text": [
            "{'name': 'John', 'age': 30, 'city': 'New York'}\n"
          ]
        }
      ]
    },
    {
      "cell_type": "code",
      "source": [
        "#22. Write a code to add a new key-value pair \"country\": \"USA\" to the dictionary {'name': 'John', 'age': 25}.\n",
        "dictionary = {'name': 'John', 'age': 25}\n",
        "dictionary['country'] = 'USA'\n",
        "print(dictionary)"
      ],
      "metadata": {
        "colab": {
          "base_uri": "https://localhost:8080/"
        },
        "id": "p8NLfM0xzvEd",
        "outputId": "1a8cccf4-6fc6-4bf0-a6ad-ade0132dbba9"
      },
      "execution_count": 19,
      "outputs": [
        {
          "output_type": "stream",
          "name": "stdout",
          "text": [
            "{'name': 'John', 'age': 25, 'country': 'USA'}\n"
          ]
        }
      ]
    },
    {
      "cell_type": "code",
      "source": [
        "#23. Write a code to access the value associated with the key \"name\" in the dictionary {'name': 'Alice', 'age': 30}.\n",
        "dictionary = {'name': 'Alice', 'age': 30}\n",
        "value = dictionary['name']\n",
        "print(value)"
      ],
      "metadata": {
        "colab": {
          "base_uri": "https://localhost:8080/"
        },
        "id": "BnxdwUEAz5Ko",
        "outputId": "37782478-8e07-4ae0-d26e-b216b3ee1563"
      },
      "execution_count": 20,
      "outputs": [
        {
          "output_type": "stream",
          "name": "stdout",
          "text": [
            "Alice\n"
          ]
        }
      ]
    },
    {
      "cell_type": "code",
      "source": [
        "#24. Write a code to remove the key \"age\" from the dictionary {'name': 'Bob', 'age': 22, 'city': 'New York'}.\n",
        "dictionary = {'name': 'Bob', 'age': 22, 'city': 'New York'}\n",
        "del dictionary['age']\n",
        "print(dictionary)\n",
        "#"
      ],
      "metadata": {
        "colab": {
          "base_uri": "https://localhost:8080/"
        },
        "id": "Btp7CdS3z_wg",
        "outputId": "b7dd96cb-56ad-42f2-ec88-02b5f5196e42"
      },
      "execution_count": 21,
      "outputs": [
        {
          "output_type": "stream",
          "name": "stdout",
          "text": [
            "{'name': 'Bob', 'city': 'New York'}\n"
          ]
        }
      ]
    },
    {
      "cell_type": "code",
      "source": [
        "#25. Write a code to check if the key \"city\" exists in the dictionary {'name': 'Alice', 'city': 'Paris'}.\n",
        "dictionary = {'name': 'Alice', 'city': 'Paris'}\n",
        "if 'city' in dictionary:\n",
        "    print('city exists in the dictionary')\n",
        "else:\n",
        "    print('city does not exist in the dictionary')"
      ],
      "metadata": {
        "colab": {
          "base_uri": "https://localhost:8080/"
        },
        "id": "OmA_7qsO0Fx0",
        "outputId": "5f020395-7803-439d-ea10-0bd6057b76d0"
      },
      "execution_count": 22,
      "outputs": [
        {
          "output_type": "stream",
          "name": "stdout",
          "text": [
            "city exists in the dictionary\n"
          ]
        }
      ]
    },
    {
      "cell_type": "code",
      "source": [
        "#26. Write a code to create a list, a tuple, and a dictionary, and print them all.\n",
        "list = [1, 2, 3, 4, 5]\n",
        "tuple = (1, 2, 3, 4, 5)\n",
        "dictionary = {'name': 'John', 'age': 30}"
      ],
      "metadata": {
        "id": "PcsAD8TM0KxC"
      },
      "execution_count": 24,
      "outputs": []
    },
    {
      "cell_type": "code",
      "source": [
        "#27. Write a code to create a list of 5 random numbers between 1 and 100, sort it in ascending order, and print the result.\n",
        "import random\n",
        "random_numbers = [random.randint(1, 100) for _ in range(5)]\n",
        "random_numbers.sort()\n",
        "print(random_numbers)\n",
        "\n",
        "\n",
        "\n",
        "\n"
      ],
      "metadata": {
        "colab": {
          "base_uri": "https://localhost:8080/"
        },
        "id": "YUsMkZ4W0PYk",
        "outputId": "01ca0e9a-3038-44cd-d60c-a74f53f09a26"
      },
      "execution_count": 25,
      "outputs": [
        {
          "output_type": "stream",
          "name": "stdout",
          "text": [
            "[16, 63, 75, 87, 96]\n"
          ]
        }
      ]
    },
    {
      "cell_type": "code",
      "source": [
        "#28. Write a code to create a list with strings and print the element at the third index.\n",
        "strings = ['apple', 'banana', 'cherry', 'date', 'elderberry']\n",
        "third_element = strings[2]\n",
        "print(third_element)"
      ],
      "metadata": {
        "colab": {
          "base_uri": "https://localhost:8080/"
        },
        "id": "NshCQrzX0y9V",
        "outputId": "646573b0-3132-44c4-9250-4dfc0fd7e415"
      },
      "execution_count": 26,
      "outputs": [
        {
          "output_type": "stream",
          "name": "stdout",
          "text": [
            "cherry\n"
          ]
        }
      ]
    },
    {
      "cell_type": "code",
      "source": [
        "#29. Write a code to combine two dictionaries into one and print the result.\n",
        "dict1 = {'a': 1, 'b': 2}\n",
        "dict2 = {'c': 3, 'd': 4}\n",
        "combined_dict = {**dict1, **dict2}\n",
        "print(combined_dict)"
      ],
      "metadata": {
        "colab": {
          "base_uri": "https://localhost:8080/"
        },
        "id": "FUDBh-Pr054V",
        "outputId": "6a023ec0-2f71-4959-fbeb-1de04702e555"
      },
      "execution_count": 27,
      "outputs": [
        {
          "output_type": "stream",
          "name": "stdout",
          "text": [
            "{'a': 1, 'b': 2, 'c': 3, 'd': 4}\n"
          ]
        }
      ]
    },
    {
      "cell_type": "code",
      "source": [
        "#30. Write a code to convert a list of strings into a set.\n",
        "def list_to_set(input_list):\n",
        "  \"\"\"Converts a list of strings into a set.\n",
        "\n",
        "  Args:\n",
        "    input_list: A list of strings.\n",
        "\n",
        "  Returns:\n",
        "    A set of strings.\n",
        "  \"\"\"\n",
        "  return set(input_list)\n",
        "\n",
        "# Example usage\n",
        "my_list = [\"apple\", \"banana\", \"apple\", \"orange\", \"banana\"]\n",
        "my_set = list_to_set(my_list)\n",
        "print(my_set)\n",
        "# Expected output: {'orange', 'banana', 'apple'}\n",
        "\n"
      ],
      "metadata": {
        "colab": {
          "base_uri": "https://localhost:8080/",
          "height": 332
        },
        "id": "2Rq-SDGp0_BZ",
        "outputId": "11fff6ed-3d5e-49fd-873e-2c8e8352839c"
      },
      "execution_count": 29,
      "outputs": [
        {
          "output_type": "error",
          "ename": "TypeError",
          "evalue": "'set' object is not callable",
          "traceback": [
            "\u001b[0;31m---------------------------------------------------------------------------\u001b[0m",
            "\u001b[0;31mTypeError\u001b[0m                                 Traceback (most recent call last)",
            "\u001b[0;32m<ipython-input-29-07445fc57cdb>\u001b[0m in \u001b[0;36m<cell line: 0>\u001b[0;34m()\u001b[0m\n\u001b[1;32m     13\u001b[0m \u001b[0;31m# Example usage\u001b[0m\u001b[0;34m\u001b[0m\u001b[0;34m\u001b[0m\u001b[0m\n\u001b[1;32m     14\u001b[0m \u001b[0mmy_list\u001b[0m \u001b[0;34m=\u001b[0m \u001b[0;34m[\u001b[0m\u001b[0;34m\"apple\"\u001b[0m\u001b[0;34m,\u001b[0m \u001b[0;34m\"banana\"\u001b[0m\u001b[0;34m,\u001b[0m \u001b[0;34m\"apple\"\u001b[0m\u001b[0;34m,\u001b[0m \u001b[0;34m\"orange\"\u001b[0m\u001b[0;34m,\u001b[0m \u001b[0;34m\"banana\"\u001b[0m\u001b[0;34m]\u001b[0m\u001b[0;34m\u001b[0m\u001b[0;34m\u001b[0m\u001b[0m\n\u001b[0;32m---> 15\u001b[0;31m \u001b[0mmy_set\u001b[0m \u001b[0;34m=\u001b[0m \u001b[0mlist_to_set\u001b[0m\u001b[0;34m(\u001b[0m\u001b[0mmy_list\u001b[0m\u001b[0;34m)\u001b[0m\u001b[0;34m\u001b[0m\u001b[0;34m\u001b[0m\u001b[0m\n\u001b[0m\u001b[1;32m     16\u001b[0m \u001b[0mprint\u001b[0m\u001b[0;34m(\u001b[0m\u001b[0mmy_set\u001b[0m\u001b[0;34m)\u001b[0m\u001b[0;34m\u001b[0m\u001b[0;34m\u001b[0m\u001b[0m\n\u001b[1;32m     17\u001b[0m \u001b[0;31m# Expected output: {'orange', 'banana', 'apple'}\u001b[0m\u001b[0;34m\u001b[0m\u001b[0;34m\u001b[0m\u001b[0m\n",
            "\u001b[0;32m<ipython-input-29-07445fc57cdb>\u001b[0m in \u001b[0;36mlist_to_set\u001b[0;34m(input_list)\u001b[0m\n\u001b[1;32m      9\u001b[0m     \u001b[0mA\u001b[0m \u001b[0mset\u001b[0m \u001b[0mof\u001b[0m \u001b[0mstrings\u001b[0m\u001b[0;34m.\u001b[0m\u001b[0;34m\u001b[0m\u001b[0;34m\u001b[0m\u001b[0m\n\u001b[1;32m     10\u001b[0m   \"\"\"\n\u001b[0;32m---> 11\u001b[0;31m   \u001b[0;32mreturn\u001b[0m \u001b[0mset\u001b[0m\u001b[0;34m(\u001b[0m\u001b[0minput_list\u001b[0m\u001b[0;34m)\u001b[0m\u001b[0;34m\u001b[0m\u001b[0;34m\u001b[0m\u001b[0m\n\u001b[0m\u001b[1;32m     12\u001b[0m \u001b[0;34m\u001b[0m\u001b[0m\n\u001b[1;32m     13\u001b[0m \u001b[0;31m# Example usage\u001b[0m\u001b[0;34m\u001b[0m\u001b[0;34m\u001b[0m\u001b[0m\n",
            "\u001b[0;31mTypeError\u001b[0m: 'set' object is not callable"
          ]
        }
      ]
    },
    {
      "cell_type": "code",
      "source": [],
      "metadata": {
        "id": "HsThpiA_1Sox"
      },
      "execution_count": null,
      "outputs": []
    }
  ]
}